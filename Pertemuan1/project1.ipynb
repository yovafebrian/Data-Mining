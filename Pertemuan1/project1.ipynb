{
  "nbformat": 4,
  "nbformat_minor": 0,
  "metadata": {
    "colab": {
      "provenance": []
    },
    "kernelspec": {
      "name": "python3",
      "display_name": "Python 3"
    },
    "language_info": {
      "name": "python"
    }
  },
  "cells": [
    {
      "cell_type": "code",
      "execution_count": 5,
      "metadata": {
        "id": "QYZFOWhJgsYL"
      },
      "outputs": [],
      "source": [
        "import numpy as py\n",
        "import pandas as pd\n",
        "import matplotlib.pyplot as plt\n",
        "import seaborn as sns\n",
        "from sklearn.impute import SimpleImputer\n"
      ]
    },
    {
      "cell_type": "code",
      "source": [
        "dataset = pd.read_excel('dataKasus1.xlsx')\n",
        "dataset"
      ],
      "metadata": {
        "colab": {
          "base_uri": "https://localhost:8080/",
          "height": 669
        },
        "id": "bJBXmXKghS5d",
        "outputId": "cdebd1d2-5bee-48d9-d9e2-0c0da9914cc8"
      },
      "execution_count": 6,
      "outputs": [
        {
          "output_type": "execute_result",
          "data": {
            "text/plain": [
              "      NO      NAMA   USIA  PARITAS JARAK KELAHIRAN RIW HIPERTENSI RIW PE  \\\n",
              "0      1    NAMA 1  23 TH        3       < 2 tahun          Tidak  Tidak   \n",
              "1      2    NAMA 2  29 TH        2       < 2 tahun          Tidak    PEB   \n",
              "2      3    NAMA 3  20 TH        1    anak pertama          Tidak  Tidak   \n",
              "3      4    NAMA 4  18 TH        1    anak pertama          Tidak  Tidak   \n",
              "4      5    NAMA 5  34 TH        3      > 2 tahun           Tidak  Tidak   \n",
              "..   ...       ...    ...      ...             ...            ...    ...   \n",
              "556  558  NAMA 557  40 TH        3      > 2 tahun           Tidak  Tidak   \n",
              "557  559  NAMA 558  28 TH        3       < 2 tahun          Tidak  Tidak   \n",
              "558  560  NAMA 559  41 TH        3      > 2 tahun           Tidak  Tidak   \n",
              "559  561  NAMA 560  32 TH        2      > 2 tahun           Tidak  Tidak   \n",
              "560  562  NAMA 561  30 TH        2      > 2 tahun           Tidak  Tidak   \n",
              "\n",
              "    OBESITAS RIW DM RIW HIPERTENSI/PE DALAM KELUARGA SOSEK RENDAH PE/Non PE  \\\n",
              "0      Tidak     Ya                            Tidak         >UMR    Non PE   \n",
              "1      Tidak  Tidak                              Ada         >UMR        PE   \n",
              "2      Tidak  Tidak                            Tidak         >UMR    Non PE   \n",
              "3      Tidak  Tidak                            Tidak         >UMR    Non PE   \n",
              "4      Tidak  Tidak                            Tidak         >UMR    Non PE   \n",
              "..       ...    ...                              ...          ...       ...   \n",
              "556    Tidak  Tidak                            Tidak         >UMR    Non PE   \n",
              "557    Tidak  Tidak                            Tidak         >UMR    Non PE   \n",
              "558    Tidak  Tidak                            Tidak         >UMR    Non PE   \n",
              "559    Tidak  Tidak                            Tidak         >UMR    Non PE   \n",
              "560    Tidak  Tidak                            Tidak         >UMR    Non PE   \n",
              "\n",
              "    Unnamed: 12  \n",
              "0           NaN  \n",
              "1           NaN  \n",
              "2           NaN  \n",
              "3           NaN  \n",
              "4           NaN  \n",
              "..          ...  \n",
              "556         NaN  \n",
              "557         NaN  \n",
              "558         NaN  \n",
              "559         NaN  \n",
              "560         NaN  \n",
              "\n",
              "[561 rows x 13 columns]"
            ],
            "text/html": [
              "\n",
              "  <div id=\"df-6e0cae1c-6554-4ce2-9114-47623d2e5a7c\" class=\"colab-df-container\">\n",
              "    <div>\n",
              "<style scoped>\n",
              "    .dataframe tbody tr th:only-of-type {\n",
              "        vertical-align: middle;\n",
              "    }\n",
              "\n",
              "    .dataframe tbody tr th {\n",
              "        vertical-align: top;\n",
              "    }\n",
              "\n",
              "    .dataframe thead th {\n",
              "        text-align: right;\n",
              "    }\n",
              "</style>\n",
              "<table border=\"1\" class=\"dataframe\">\n",
              "  <thead>\n",
              "    <tr style=\"text-align: right;\">\n",
              "      <th></th>\n",
              "      <th>NO</th>\n",
              "      <th>NAMA</th>\n",
              "      <th>USIA</th>\n",
              "      <th>PARITAS</th>\n",
              "      <th>JARAK KELAHIRAN</th>\n",
              "      <th>RIW HIPERTENSI</th>\n",
              "      <th>RIW PE</th>\n",
              "      <th>OBESITAS</th>\n",
              "      <th>RIW DM</th>\n",
              "      <th>RIW HIPERTENSI/PE DALAM KELUARGA</th>\n",
              "      <th>SOSEK RENDAH</th>\n",
              "      <th>PE/Non PE</th>\n",
              "      <th>Unnamed: 12</th>\n",
              "    </tr>\n",
              "  </thead>\n",
              "  <tbody>\n",
              "    <tr>\n",
              "      <th>0</th>\n",
              "      <td>1</td>\n",
              "      <td>NAMA 1</td>\n",
              "      <td>23 TH</td>\n",
              "      <td>3</td>\n",
              "      <td>&lt; 2 tahun</td>\n",
              "      <td>Tidak</td>\n",
              "      <td>Tidak</td>\n",
              "      <td>Tidak</td>\n",
              "      <td>Ya</td>\n",
              "      <td>Tidak</td>\n",
              "      <td>&gt;UMR</td>\n",
              "      <td>Non PE</td>\n",
              "      <td>NaN</td>\n",
              "    </tr>\n",
              "    <tr>\n",
              "      <th>1</th>\n",
              "      <td>2</td>\n",
              "      <td>NAMA 2</td>\n",
              "      <td>29 TH</td>\n",
              "      <td>2</td>\n",
              "      <td>&lt; 2 tahun</td>\n",
              "      <td>Tidak</td>\n",
              "      <td>PEB</td>\n",
              "      <td>Tidak</td>\n",
              "      <td>Tidak</td>\n",
              "      <td>Ada</td>\n",
              "      <td>&gt;UMR</td>\n",
              "      <td>PE</td>\n",
              "      <td>NaN</td>\n",
              "    </tr>\n",
              "    <tr>\n",
              "      <th>2</th>\n",
              "      <td>3</td>\n",
              "      <td>NAMA 3</td>\n",
              "      <td>20 TH</td>\n",
              "      <td>1</td>\n",
              "      <td>anak pertama</td>\n",
              "      <td>Tidak</td>\n",
              "      <td>Tidak</td>\n",
              "      <td>Tidak</td>\n",
              "      <td>Tidak</td>\n",
              "      <td>Tidak</td>\n",
              "      <td>&gt;UMR</td>\n",
              "      <td>Non PE</td>\n",
              "      <td>NaN</td>\n",
              "    </tr>\n",
              "    <tr>\n",
              "      <th>3</th>\n",
              "      <td>4</td>\n",
              "      <td>NAMA 4</td>\n",
              "      <td>18 TH</td>\n",
              "      <td>1</td>\n",
              "      <td>anak pertama</td>\n",
              "      <td>Tidak</td>\n",
              "      <td>Tidak</td>\n",
              "      <td>Tidak</td>\n",
              "      <td>Tidak</td>\n",
              "      <td>Tidak</td>\n",
              "      <td>&gt;UMR</td>\n",
              "      <td>Non PE</td>\n",
              "      <td>NaN</td>\n",
              "    </tr>\n",
              "    <tr>\n",
              "      <th>4</th>\n",
              "      <td>5</td>\n",
              "      <td>NAMA 5</td>\n",
              "      <td>34 TH</td>\n",
              "      <td>3</td>\n",
              "      <td>&gt; 2 tahun</td>\n",
              "      <td>Tidak</td>\n",
              "      <td>Tidak</td>\n",
              "      <td>Tidak</td>\n",
              "      <td>Tidak</td>\n",
              "      <td>Tidak</td>\n",
              "      <td>&gt;UMR</td>\n",
              "      <td>Non PE</td>\n",
              "      <td>NaN</td>\n",
              "    </tr>\n",
              "    <tr>\n",
              "      <th>...</th>\n",
              "      <td>...</td>\n",
              "      <td>...</td>\n",
              "      <td>...</td>\n",
              "      <td>...</td>\n",
              "      <td>...</td>\n",
              "      <td>...</td>\n",
              "      <td>...</td>\n",
              "      <td>...</td>\n",
              "      <td>...</td>\n",
              "      <td>...</td>\n",
              "      <td>...</td>\n",
              "      <td>...</td>\n",
              "      <td>...</td>\n",
              "    </tr>\n",
              "    <tr>\n",
              "      <th>556</th>\n",
              "      <td>558</td>\n",
              "      <td>NAMA 557</td>\n",
              "      <td>40 TH</td>\n",
              "      <td>3</td>\n",
              "      <td>&gt; 2 tahun</td>\n",
              "      <td>Tidak</td>\n",
              "      <td>Tidak</td>\n",
              "      <td>Tidak</td>\n",
              "      <td>Tidak</td>\n",
              "      <td>Tidak</td>\n",
              "      <td>&gt;UMR</td>\n",
              "      <td>Non PE</td>\n",
              "      <td>NaN</td>\n",
              "    </tr>\n",
              "    <tr>\n",
              "      <th>557</th>\n",
              "      <td>559</td>\n",
              "      <td>NAMA 558</td>\n",
              "      <td>28 TH</td>\n",
              "      <td>3</td>\n",
              "      <td>&lt; 2 tahun</td>\n",
              "      <td>Tidak</td>\n",
              "      <td>Tidak</td>\n",
              "      <td>Tidak</td>\n",
              "      <td>Tidak</td>\n",
              "      <td>Tidak</td>\n",
              "      <td>&gt;UMR</td>\n",
              "      <td>Non PE</td>\n",
              "      <td>NaN</td>\n",
              "    </tr>\n",
              "    <tr>\n",
              "      <th>558</th>\n",
              "      <td>560</td>\n",
              "      <td>NAMA 559</td>\n",
              "      <td>41 TH</td>\n",
              "      <td>3</td>\n",
              "      <td>&gt; 2 tahun</td>\n",
              "      <td>Tidak</td>\n",
              "      <td>Tidak</td>\n",
              "      <td>Tidak</td>\n",
              "      <td>Tidak</td>\n",
              "      <td>Tidak</td>\n",
              "      <td>&gt;UMR</td>\n",
              "      <td>Non PE</td>\n",
              "      <td>NaN</td>\n",
              "    </tr>\n",
              "    <tr>\n",
              "      <th>559</th>\n",
              "      <td>561</td>\n",
              "      <td>NAMA 560</td>\n",
              "      <td>32 TH</td>\n",
              "      <td>2</td>\n",
              "      <td>&gt; 2 tahun</td>\n",
              "      <td>Tidak</td>\n",
              "      <td>Tidak</td>\n",
              "      <td>Tidak</td>\n",
              "      <td>Tidak</td>\n",
              "      <td>Tidak</td>\n",
              "      <td>&gt;UMR</td>\n",
              "      <td>Non PE</td>\n",
              "      <td>NaN</td>\n",
              "    </tr>\n",
              "    <tr>\n",
              "      <th>560</th>\n",
              "      <td>562</td>\n",
              "      <td>NAMA 561</td>\n",
              "      <td>30 TH</td>\n",
              "      <td>2</td>\n",
              "      <td>&gt; 2 tahun</td>\n",
              "      <td>Tidak</td>\n",
              "      <td>Tidak</td>\n",
              "      <td>Tidak</td>\n",
              "      <td>Tidak</td>\n",
              "      <td>Tidak</td>\n",
              "      <td>&gt;UMR</td>\n",
              "      <td>Non PE</td>\n",
              "      <td>NaN</td>\n",
              "    </tr>\n",
              "  </tbody>\n",
              "</table>\n",
              "<p>561 rows × 13 columns</p>\n",
              "</div>\n",
              "    <div class=\"colab-df-buttons\">\n",
              "\n",
              "  <div class=\"colab-df-container\">\n",
              "    <button class=\"colab-df-convert\" onclick=\"convertToInteractive('df-6e0cae1c-6554-4ce2-9114-47623d2e5a7c')\"\n",
              "            title=\"Convert this dataframe to an interactive table.\"\n",
              "            style=\"display:none;\">\n",
              "\n",
              "  <svg xmlns=\"http://www.w3.org/2000/svg\" height=\"24px\" viewBox=\"0 -960 960 960\">\n",
              "    <path d=\"M120-120v-720h720v720H120Zm60-500h600v-160H180v160Zm220 220h160v-160H400v160Zm0 220h160v-160H400v160ZM180-400h160v-160H180v160Zm440 0h160v-160H620v160ZM180-180h160v-160H180v160Zm440 0h160v-160H620v160Z\"/>\n",
              "  </svg>\n",
              "    </button>\n",
              "\n",
              "  <style>\n",
              "    .colab-df-container {\n",
              "      display:flex;\n",
              "      gap: 12px;\n",
              "    }\n",
              "\n",
              "    .colab-df-convert {\n",
              "      background-color: #E8F0FE;\n",
              "      border: none;\n",
              "      border-radius: 50%;\n",
              "      cursor: pointer;\n",
              "      display: none;\n",
              "      fill: #1967D2;\n",
              "      height: 32px;\n",
              "      padding: 0 0 0 0;\n",
              "      width: 32px;\n",
              "    }\n",
              "\n",
              "    .colab-df-convert:hover {\n",
              "      background-color: #E2EBFA;\n",
              "      box-shadow: 0px 1px 2px rgba(60, 64, 67, 0.3), 0px 1px 3px 1px rgba(60, 64, 67, 0.15);\n",
              "      fill: #174EA6;\n",
              "    }\n",
              "\n",
              "    .colab-df-buttons div {\n",
              "      margin-bottom: 4px;\n",
              "    }\n",
              "\n",
              "    [theme=dark] .colab-df-convert {\n",
              "      background-color: #3B4455;\n",
              "      fill: #D2E3FC;\n",
              "    }\n",
              "\n",
              "    [theme=dark] .colab-df-convert:hover {\n",
              "      background-color: #434B5C;\n",
              "      box-shadow: 0px 1px 3px 1px rgba(0, 0, 0, 0.15);\n",
              "      filter: drop-shadow(0px 1px 2px rgba(0, 0, 0, 0.3));\n",
              "      fill: #FFFFFF;\n",
              "    }\n",
              "  </style>\n",
              "\n",
              "    <script>\n",
              "      const buttonEl =\n",
              "        document.querySelector('#df-6e0cae1c-6554-4ce2-9114-47623d2e5a7c button.colab-df-convert');\n",
              "      buttonEl.style.display =\n",
              "        google.colab.kernel.accessAllowed ? 'block' : 'none';\n",
              "\n",
              "      async function convertToInteractive(key) {\n",
              "        const element = document.querySelector('#df-6e0cae1c-6554-4ce2-9114-47623d2e5a7c');\n",
              "        const dataTable =\n",
              "          await google.colab.kernel.invokeFunction('convertToInteractive',\n",
              "                                                    [key], {});\n",
              "        if (!dataTable) return;\n",
              "\n",
              "        const docLinkHtml = 'Like what you see? Visit the ' +\n",
              "          '<a target=\"_blank\" href=https://colab.research.google.com/notebooks/data_table.ipynb>data table notebook</a>'\n",
              "          + ' to learn more about interactive tables.';\n",
              "        element.innerHTML = '';\n",
              "        dataTable['output_type'] = 'display_data';\n",
              "        await google.colab.output.renderOutput(dataTable, element);\n",
              "        const docLink = document.createElement('div');\n",
              "        docLink.innerHTML = docLinkHtml;\n",
              "        element.appendChild(docLink);\n",
              "      }\n",
              "    </script>\n",
              "  </div>\n",
              "\n",
              "\n",
              "<div id=\"df-314ba51f-0544-4e3d-8b96-4fd2b2907411\">\n",
              "  <button class=\"colab-df-quickchart\" onclick=\"quickchart('df-314ba51f-0544-4e3d-8b96-4fd2b2907411')\"\n",
              "            title=\"Suggest charts\"\n",
              "            style=\"display:none;\">\n",
              "\n",
              "<svg xmlns=\"http://www.w3.org/2000/svg\" height=\"24px\"viewBox=\"0 0 24 24\"\n",
              "     width=\"24px\">\n",
              "    <g>\n",
              "        <path d=\"M19 3H5c-1.1 0-2 .9-2 2v14c0 1.1.9 2 2 2h14c1.1 0 2-.9 2-2V5c0-1.1-.9-2-2-2zM9 17H7v-7h2v7zm4 0h-2V7h2v10zm4 0h-2v-4h2v4z\"/>\n",
              "    </g>\n",
              "</svg>\n",
              "  </button>\n",
              "\n",
              "<style>\n",
              "  .colab-df-quickchart {\n",
              "      --bg-color: #E8F0FE;\n",
              "      --fill-color: #1967D2;\n",
              "      --hover-bg-color: #E2EBFA;\n",
              "      --hover-fill-color: #174EA6;\n",
              "      --disabled-fill-color: #AAA;\n",
              "      --disabled-bg-color: #DDD;\n",
              "  }\n",
              "\n",
              "  [theme=dark] .colab-df-quickchart {\n",
              "      --bg-color: #3B4455;\n",
              "      --fill-color: #D2E3FC;\n",
              "      --hover-bg-color: #434B5C;\n",
              "      --hover-fill-color: #FFFFFF;\n",
              "      --disabled-bg-color: #3B4455;\n",
              "      --disabled-fill-color: #666;\n",
              "  }\n",
              "\n",
              "  .colab-df-quickchart {\n",
              "    background-color: var(--bg-color);\n",
              "    border: none;\n",
              "    border-radius: 50%;\n",
              "    cursor: pointer;\n",
              "    display: none;\n",
              "    fill: var(--fill-color);\n",
              "    height: 32px;\n",
              "    padding: 0;\n",
              "    width: 32px;\n",
              "  }\n",
              "\n",
              "  .colab-df-quickchart:hover {\n",
              "    background-color: var(--hover-bg-color);\n",
              "    box-shadow: 0 1px 2px rgba(60, 64, 67, 0.3), 0 1px 3px 1px rgba(60, 64, 67, 0.15);\n",
              "    fill: var(--button-hover-fill-color);\n",
              "  }\n",
              "\n",
              "  .colab-df-quickchart-complete:disabled,\n",
              "  .colab-df-quickchart-complete:disabled:hover {\n",
              "    background-color: var(--disabled-bg-color);\n",
              "    fill: var(--disabled-fill-color);\n",
              "    box-shadow: none;\n",
              "  }\n",
              "\n",
              "  .colab-df-spinner {\n",
              "    border: 2px solid var(--fill-color);\n",
              "    border-color: transparent;\n",
              "    border-bottom-color: var(--fill-color);\n",
              "    animation:\n",
              "      spin 1s steps(1) infinite;\n",
              "  }\n",
              "\n",
              "  @keyframes spin {\n",
              "    0% {\n",
              "      border-color: transparent;\n",
              "      border-bottom-color: var(--fill-color);\n",
              "      border-left-color: var(--fill-color);\n",
              "    }\n",
              "    20% {\n",
              "      border-color: transparent;\n",
              "      border-left-color: var(--fill-color);\n",
              "      border-top-color: var(--fill-color);\n",
              "    }\n",
              "    30% {\n",
              "      border-color: transparent;\n",
              "      border-left-color: var(--fill-color);\n",
              "      border-top-color: var(--fill-color);\n",
              "      border-right-color: var(--fill-color);\n",
              "    }\n",
              "    40% {\n",
              "      border-color: transparent;\n",
              "      border-right-color: var(--fill-color);\n",
              "      border-top-color: var(--fill-color);\n",
              "    }\n",
              "    60% {\n",
              "      border-color: transparent;\n",
              "      border-right-color: var(--fill-color);\n",
              "    }\n",
              "    80% {\n",
              "      border-color: transparent;\n",
              "      border-right-color: var(--fill-color);\n",
              "      border-bottom-color: var(--fill-color);\n",
              "    }\n",
              "    90% {\n",
              "      border-color: transparent;\n",
              "      border-bottom-color: var(--fill-color);\n",
              "    }\n",
              "  }\n",
              "</style>\n",
              "\n",
              "  <script>\n",
              "    async function quickchart(key) {\n",
              "      const quickchartButtonEl =\n",
              "        document.querySelector('#' + key + ' button');\n",
              "      quickchartButtonEl.disabled = true;  // To prevent multiple clicks.\n",
              "      quickchartButtonEl.classList.add('colab-df-spinner');\n",
              "      try {\n",
              "        const charts = await google.colab.kernel.invokeFunction(\n",
              "            'suggestCharts', [key], {});\n",
              "      } catch (error) {\n",
              "        console.error('Error during call to suggestCharts:', error);\n",
              "      }\n",
              "      quickchartButtonEl.classList.remove('colab-df-spinner');\n",
              "      quickchartButtonEl.classList.add('colab-df-quickchart-complete');\n",
              "    }\n",
              "    (() => {\n",
              "      let quickchartButtonEl =\n",
              "        document.querySelector('#df-314ba51f-0544-4e3d-8b96-4fd2b2907411 button');\n",
              "      quickchartButtonEl.style.display =\n",
              "        google.colab.kernel.accessAllowed ? 'block' : 'none';\n",
              "    })();\n",
              "  </script>\n",
              "</div>\n",
              "\n",
              "  <div id=\"id_94e07a4f-f106-4bd3-97dd-50e964c60481\">\n",
              "    <style>\n",
              "      .colab-df-generate {\n",
              "        background-color: #E8F0FE;\n",
              "        border: none;\n",
              "        border-radius: 50%;\n",
              "        cursor: pointer;\n",
              "        display: none;\n",
              "        fill: #1967D2;\n",
              "        height: 32px;\n",
              "        padding: 0 0 0 0;\n",
              "        width: 32px;\n",
              "      }\n",
              "\n",
              "      .colab-df-generate:hover {\n",
              "        background-color: #E2EBFA;\n",
              "        box-shadow: 0px 1px 2px rgba(60, 64, 67, 0.3), 0px 1px 3px 1px rgba(60, 64, 67, 0.15);\n",
              "        fill: #174EA6;\n",
              "      }\n",
              "\n",
              "      [theme=dark] .colab-df-generate {\n",
              "        background-color: #3B4455;\n",
              "        fill: #D2E3FC;\n",
              "      }\n",
              "\n",
              "      [theme=dark] .colab-df-generate:hover {\n",
              "        background-color: #434B5C;\n",
              "        box-shadow: 0px 1px 3px 1px rgba(0, 0, 0, 0.15);\n",
              "        filter: drop-shadow(0px 1px 2px rgba(0, 0, 0, 0.3));\n",
              "        fill: #FFFFFF;\n",
              "      }\n",
              "    </style>\n",
              "    <button class=\"colab-df-generate\" onclick=\"generateWithVariable('dataset')\"\n",
              "            title=\"Generate code using this dataframe.\"\n",
              "            style=\"display:none;\">\n",
              "\n",
              "  <svg xmlns=\"http://www.w3.org/2000/svg\" height=\"24px\"viewBox=\"0 0 24 24\"\n",
              "       width=\"24px\">\n",
              "    <path d=\"M7,19H8.4L18.45,9,17,7.55,7,17.6ZM5,21V16.75L18.45,3.32a2,2,0,0,1,2.83,0l1.4,1.43a1.91,1.91,0,0,1,.58,1.4,1.91,1.91,0,0,1-.58,1.4L9.25,21ZM18.45,9,17,7.55Zm-12,3A5.31,5.31,0,0,0,4.9,8.1,5.31,5.31,0,0,0,1,6.5,5.31,5.31,0,0,0,4.9,4.9,5.31,5.31,0,0,0,6.5,1,5.31,5.31,0,0,0,8.1,4.9,5.31,5.31,0,0,0,12,6.5,5.46,5.46,0,0,0,6.5,12Z\"/>\n",
              "  </svg>\n",
              "    </button>\n",
              "    <script>\n",
              "      (() => {\n",
              "      const buttonEl =\n",
              "        document.querySelector('#id_94e07a4f-f106-4bd3-97dd-50e964c60481 button.colab-df-generate');\n",
              "      buttonEl.style.display =\n",
              "        google.colab.kernel.accessAllowed ? 'block' : 'none';\n",
              "\n",
              "      buttonEl.onclick = () => {\n",
              "        google.colab.notebook.generateWithVariable('dataset');\n",
              "      }\n",
              "      })();\n",
              "    </script>\n",
              "  </div>\n",
              "\n",
              "    </div>\n",
              "  </div>\n"
            ],
            "application/vnd.google.colaboratory.intrinsic+json": {
              "type": "dataframe",
              "variable_name": "dataset",
              "summary": "{\n  \"name\": \"dataset\",\n  \"rows\": 561,\n  \"fields\": [\n    {\n      \"column\": \"NO\",\n      \"properties\": {\n        \"dtype\": \"number\",\n        \"std\": 162,\n        \"min\": 1,\n        \"max\": 562,\n        \"num_unique_values\": 561,\n        \"samples\": [\n          515,\n          344,\n          179\n        ],\n        \"semantic_type\": \"\",\n        \"description\": \"\"\n      }\n    },\n    {\n      \"column\": \"NAMA\",\n      \"properties\": {\n        \"dtype\": \"string\",\n        \"num_unique_values\": 561,\n        \"samples\": [\n          \"NAMA 514\",\n          \"NAMA 343\",\n          \"NAMA 178\"\n        ],\n        \"semantic_type\": \"\",\n        \"description\": \"\"\n      }\n    },\n    {\n      \"column\": \"USIA\",\n      \"properties\": {\n        \"dtype\": \"category\",\n        \"num_unique_values\": 72,\n        \"samples\": [\n          \"34 TH\",\n          \"19 th \",\n          \"27 TH\"\n        ],\n        \"semantic_type\": \"\",\n        \"description\": \"\"\n      }\n    },\n    {\n      \"column\": \"PARITAS\",\n      \"properties\": {\n        \"dtype\": \"number\",\n        \"std\": 1,\n        \"min\": 0,\n        \"max\": 6,\n        \"num_unique_values\": 7,\n        \"samples\": [\n          3,\n          2,\n          5\n        ],\n        \"semantic_type\": \"\",\n        \"description\": \"\"\n      }\n    },\n    {\n      \"column\": \"JARAK KELAHIRAN\",\n      \"properties\": {\n        \"dtype\": \"category\",\n        \"num_unique_values\": 4,\n        \"samples\": [\n          \"anak pertama\",\n          \"> 2 tahun\",\n          \"< 2 tahun\"\n        ],\n        \"semantic_type\": \"\",\n        \"description\": \"\"\n      }\n    },\n    {\n      \"column\": \"RIW HIPERTENSI\",\n      \"properties\": {\n        \"dtype\": \"category\",\n        \"num_unique_values\": 2,\n        \"samples\": [\n          \"Ya\",\n          \"Tidak\"\n        ],\n        \"semantic_type\": \"\",\n        \"description\": \"\"\n      }\n    },\n    {\n      \"column\": \"RIW PE\",\n      \"properties\": {\n        \"dtype\": \"category\",\n        \"num_unique_values\": 11,\n        \"samples\": [\n          \"impending eklamsia\",\n          \"Tidak\"\n        ],\n        \"semantic_type\": \"\",\n        \"description\": \"\"\n      }\n    },\n    {\n      \"column\": \"OBESITAS\",\n      \"properties\": {\n        \"dtype\": \"category\",\n        \"num_unique_values\": 2,\n        \"samples\": [\n          \"Ya\",\n          \"Tidak\"\n        ],\n        \"semantic_type\": \"\",\n        \"description\": \"\"\n      }\n    },\n    {\n      \"column\": \"RIW DM\",\n      \"properties\": {\n        \"dtype\": \"category\",\n        \"num_unique_values\": 2,\n        \"samples\": [\n          \"Tidak\",\n          \"Ya\"\n        ],\n        \"semantic_type\": \"\",\n        \"description\": \"\"\n      }\n    },\n    {\n      \"column\": \"RIW HIPERTENSI/PE DALAM KELUARGA\",\n      \"properties\": {\n        \"dtype\": \"category\",\n        \"num_unique_values\": 2,\n        \"samples\": [\n          \"Ada\",\n          \"Tidak\"\n        ],\n        \"semantic_type\": \"\",\n        \"description\": \"\"\n      }\n    },\n    {\n      \"column\": \"SOSEK RENDAH\",\n      \"properties\": {\n        \"dtype\": \"category\",\n        \"num_unique_values\": 2,\n        \"samples\": [\n          \"<UMR\",\n          \">UMR\"\n        ],\n        \"semantic_type\": \"\",\n        \"description\": \"\"\n      }\n    },\n    {\n      \"column\": \"PE/Non PE\",\n      \"properties\": {\n        \"dtype\": \"category\",\n        \"num_unique_values\": 7,\n        \"samples\": [\n          \"Non PE\",\n          \"PE\"\n        ],\n        \"semantic_type\": \"\",\n        \"description\": \"\"\n      }\n    },\n    {\n      \"column\": \"Unnamed: 12\",\n      \"properties\": {\n        \"dtype\": \"category\",\n        \"num_unique_values\": 8,\n        \"samples\": [\n          \"HT Ges\",\n          \"infertil 12 tahun\"\n        ],\n        \"semantic_type\": \"\",\n        \"description\": \"\"\n      }\n    }\n  ]\n}"
            }
          },
          "metadata": {},
          "execution_count": 6
        }
      ]
    },
    {
      "cell_type": "code",
      "source": [
        "dataset = dataset.drop(columns=['Unnamed: 12'])\n"
      ],
      "metadata": {
        "id": "KP-WEzfghhsp"
      },
      "execution_count": 7,
      "outputs": []
    },
    {
      "cell_type": "code",
      "source": [
        "dataset.columns = dataset.columns.str.strip()\n",
        "dataset.info()"
      ],
      "metadata": {
        "colab": {
          "base_uri": "https://localhost:8080/"
        },
        "id": "ELXusVQYirWM",
        "outputId": "0403d6f9-d386-4dab-ef79-a8ad04126c2c"
      },
      "execution_count": 8,
      "outputs": [
        {
          "output_type": "stream",
          "name": "stdout",
          "text": [
            "<class 'pandas.core.frame.DataFrame'>\n",
            "RangeIndex: 561 entries, 0 to 560\n",
            "Data columns (total 12 columns):\n",
            " #   Column                            Non-Null Count  Dtype \n",
            "---  ------                            --------------  ----- \n",
            " 0   NO                                561 non-null    int64 \n",
            " 1   NAMA                              561 non-null    object\n",
            " 2   USIA                              558 non-null    object\n",
            " 3   PARITAS                           561 non-null    int64 \n",
            " 4   JARAK KELAHIRAN                   554 non-null    object\n",
            " 5   RIW HIPERTENSI                    561 non-null    object\n",
            " 6   RIW PE                            561 non-null    object\n",
            " 7   OBESITAS                          561 non-null    object\n",
            " 8   RIW DM                            561 non-null    object\n",
            " 9   RIW HIPERTENSI/PE DALAM KELUARGA  561 non-null    object\n",
            " 10  SOSEK RENDAH                      561 non-null    object\n",
            " 11  PE/Non PE                         561 non-null    object\n",
            "dtypes: int64(2), object(10)\n",
            "memory usage: 52.7+ KB\n"
          ]
        }
      ]
    },
    {
      "cell_type": "code",
      "source": [
        "# Mengubah data menjadi string dan menghitung nilai unik\n",
        "value_counts = dataset['USIA'].astype(str).value_counts(dropna=False)\n",
        "print(value_counts)"
      ],
      "metadata": {
        "colab": {
          "base_uri": "https://localhost:8080/"
        },
        "id": "hK8QS0mQi4VK",
        "outputId": "c240ed29-c8d2-4cd6-d662-fafbe6746e61"
      },
      "execution_count": 9,
      "outputs": [
        {
          "output_type": "stream",
          "name": "stdout",
          "text": [
            "USIA\n",
            "28 TH     28\n",
            "25 TH     24\n",
            "31 TH     23\n",
            "29 TH     22\n",
            "24 TH     21\n",
            "          ..\n",
            "30 th      1\n",
            "23         1\n",
            "37         1\n",
            "39 TH      1\n",
            "14 TH      1\n",
            "Name: count, Length: 73, dtype: int64\n"
          ]
        }
      ]
    },
    {
      "cell_type": "code",
      "source": [
        "# Mengisi nilai  dengan string kosong\n",
        "dataset['USIA'] = dataset['USIA'].fillna('')\n",
        "\n",
        "# Menghapus spasi ekstra dan mengambil angka\n",
        "dataset['USIA'] = dataset['USIA'].str.strip().str.extract('(\\d+)')[0]\n",
        "\n",
        "# Mengonvrensi ke tipe data numerik\n",
        "dataset['USIA'] = pd.to_numeric(dataset['USIA'], errors='coerce')\n",
        "\n",
        "#Mengisi nilai NAN dengan rata - rata Usia DA\n",
        "dataset['USIA'] = dataset['USIA'].fillna(dataset['USIA'].mean())"
      ],
      "metadata": {
        "id": "zurrsE20jiZM"
      },
      "execution_count": 10,
      "outputs": []
    },
    {
      "cell_type": "code",
      "source": [
        "# Mengubah data menjadi string dan hitung nilai unik\n",
        "\n",
        "value_counts = dataset['USIA'].astype(str).value_counts(dropna=False)\n",
        "\n",
        "print(value_counts)"
      ],
      "metadata": {
        "colab": {
          "base_uri": "https://localhost:8080/"
        },
        "id": "Qw3mP8jJjtJb",
        "outputId": "643f1f17-1461-4690-ae63-65e58eab32da"
      },
      "execution_count": 11,
      "outputs": [
        {
          "output_type": "stream",
          "name": "stdout",
          "text": [
            "USIA\n",
            "31.0                  41\n",
            "28.0                  41\n",
            "26.0                  35\n",
            "25.0                  35\n",
            "22.0                  35\n",
            "29.0                  34\n",
            "24.0                  33\n",
            "27.0                  27\n",
            "23.0                  25\n",
            "30.0                  25\n",
            "33.0                  23\n",
            "21.0                  21\n",
            "32.0                  20\n",
            "20.0                  20\n",
            "36.0                  18\n",
            "35.0                  17\n",
            "38.0                  15\n",
            "28.195612431444243    14\n",
            "34.0                  14\n",
            "41.0                  11\n",
            "39.0                  11\n",
            "19.0                  10\n",
            "37.0                   9\n",
            "40.0                   8\n",
            "17.0                   5\n",
            "18.0                   5\n",
            "15.0                   3\n",
            "16.0                   2\n",
            "43.0                   2\n",
            "13.0                   1\n",
            "14.0                   1\n",
            "Name: count, dtype: int64\n"
          ]
        }
      ]
    },
    {
      "cell_type": "code",
      "source": [
        "#Mengubah data menjadi string dan menghitung nilai unik\n",
        "\n",
        "value_counts = dataset['PARITAS'].astype(str).value_counts(dropna=False)\n",
        "print(value_counts)"
      ],
      "metadata": {
        "colab": {
          "base_uri": "https://localhost:8080/"
        },
        "id": "coI8ghTCk8vS",
        "outputId": "dcc76b76-3904-4c2d-a7a6-234205fd1412"
      },
      "execution_count": 12,
      "outputs": [
        {
          "output_type": "stream",
          "name": "stdout",
          "text": [
            "PARITAS\n",
            "1    228\n",
            "2    186\n",
            "3     82\n",
            "0     39\n",
            "4     20\n",
            "5      3\n",
            "6      3\n",
            "Name: count, dtype: int64\n"
          ]
        }
      ]
    },
    {
      "cell_type": "code",
      "source": [
        "# Mengubah data menjadi string dan menghitung nilai unik\n",
        "value_counts = dataset['JARAK KELAHIRAN'].astype(str).value_counts(dropna=False)\n",
        "\n",
        "print( value_counts)"
      ],
      "metadata": {
        "colab": {
          "base_uri": "https://localhost:8080/"
        },
        "id": "kjnyWn4PlvjZ",
        "outputId": "4d0e6e0f-e86b-4a69-ed1a-221d2dad0d65"
      },
      "execution_count": 13,
      "outputs": [
        {
          "output_type": "stream",
          "name": "stdout",
          "text": [
            "JARAK KELAHIRAN\n",
            "anak pertama    260\n",
            "> 2 tahun       211\n",
            "< 2 tahun        81\n",
            "nan               7\n",
            "> 2 tahun         2\n",
            "Name: count, dtype: int64\n"
          ]
        }
      ]
    },
    {
      "cell_type": "code",
      "source": [
        "imputer = SimpleImputer(strategy='most_frequent')\n",
        "from sklearn.preprocessing import LabelEncoder"
      ],
      "metadata": {
        "id": "LyZXNMTqm359"
      },
      "execution_count": 14,
      "outputs": []
    },
    {
      "cell_type": "code",
      "source": [
        "dataset['JARAK KELAHIRAN'] = imputer.fit_transform(dataset[['JARAK KELAHIRAN']]).ravel()\n",
        "# menggati nilai >2 tahun dengan > 2 tahun\n",
        "\n",
        "dataset['JARAK KELAHIRAN'] = dataset['JARAK KELAHIRAN'].replace('>2 tahun' , '> 2 tahun')"
      ],
      "metadata": {
        "id": "2BbWSWkZnL1l"
      },
      "execution_count": 15,
      "outputs": []
    },
    {
      "cell_type": "code",
      "source": [
        "# Mengubah menjadi string dan menghitung nilai unik\n",
        "value_counts = dataset['JARAK KELAHIRAN'].astype(str).value_counts(dropna=False)\n",
        "\n",
        "print(value_counts)"
      ],
      "metadata": {
        "colab": {
          "base_uri": "https://localhost:8080/"
        },
        "id": "xsGvSvmInPae",
        "outputId": "e81d8fbd-c753-4465-e57b-f25d1e81b6bd"
      },
      "execution_count": 16,
      "outputs": [
        {
          "output_type": "stream",
          "name": "stdout",
          "text": [
            "JARAK KELAHIRAN\n",
            "anak pertama    267\n",
            "> 2 tahun       211\n",
            "< 2 tahun        81\n",
            "> 2 tahun         2\n",
            "Name: count, dtype: int64\n"
          ]
        }
      ]
    },
    {
      "cell_type": "code",
      "source": [
        "\n",
        "imputer = SimpleImputer(strategy='most_frequent')\n",
        "from sklearn.preprocessing import LabelEncoder\n",
        "\n",
        "dataset['JARAK KELAHIRAN'] = imputer.fit_transform(dataset[['JARAK KELAHIRAN']]).ravel()\n",
        "# Mengganti nilai '> 2 tahun ' dengan '> 2 tahun'\n",
        "dataset['JARAK KELAHIRAN'] = dataset['JARAK KELAHIRAN'].replace('> 2 tahun ', '> 2 tahun')"
      ],
      "metadata": {
        "id": "pqq18PZZVul0"
      },
      "execution_count": 28,
      "outputs": []
    },
    {
      "cell_type": "code",
      "source": [
        "# Mengubah data menjadi string dan menghitung nilai unik dan merapikan anak lebih dari 2 tahun\n",
        "value_counts = dataset['JARAK KELAHIRAN'].astype(str).value_counts(dropna=False)\n",
        "\n",
        "print(value_counts)"
      ],
      "metadata": {
        "colab": {
          "base_uri": "https://localhost:8080/"
        },
        "id": "WM8Hhr7BVLKe",
        "outputId": "e56199eb-a37a-42d5-d1f4-dd91305a9205"
      },
      "execution_count": 30,
      "outputs": [
        {
          "output_type": "stream",
          "name": "stdout",
          "text": [
            "JARAK KELAHIRAN\n",
            "anak pertama    267\n",
            "> 2 tahun       213\n",
            "< 2 tahun        81\n",
            "Name: count, dtype: int64\n"
          ]
        }
      ]
    },
    {
      "cell_type": "code",
      "source": [
        "# Mengubah data menjadi string dan menghitung nilai unik\n",
        "value_counts = dataset['RIW HIPERTENSI'].astype(str).value_counts(dropna=False)\n",
        "\n",
        "print(value_counts)"
      ],
      "metadata": {
        "colab": {
          "base_uri": "https://localhost:8080/"
        },
        "id": "fxmMLObEWOLA",
        "outputId": "e88df1a4-7b85-433c-b664-f5afb00236a9"
      },
      "execution_count": 31,
      "outputs": [
        {
          "output_type": "stream",
          "name": "stdout",
          "text": [
            "RIW HIPERTENSI\n",
            "Tidak    508\n",
            "Ya        53\n",
            "Name: count, dtype: int64\n"
          ]
        }
      ]
    },
    {
      "cell_type": "code",
      "source": [
        "# Mengubah data menjadi string dan menghitung nilai unik\n",
        "value_counts = dataset['RIW PE'].astype(str).value_counts(dropna=False)\n",
        "\n",
        "print(value_counts)"
      ],
      "metadata": {
        "colab": {
          "base_uri": "https://localhost:8080/"
        },
        "id": "qqMWpgzlWjwN",
        "outputId": "79369fd3-c88a-4efd-91ad-08d61d858ac6"
      },
      "execution_count": 33,
      "outputs": [
        {
          "output_type": "stream",
          "name": "stdout",
          "text": [
            "RIW PE\n",
            "Tidak                     526\n",
            "Ada                        29\n",
            "HELLP SYNDROM               2\n",
            "Kejang Konvulsi             1\n",
            "impending eklamsia          1\n",
            "PEB impending eklampsi      1\n",
            "Impending Ekalmsia          1\n",
            "Name: count, dtype: int64\n"
          ]
        }
      ]
    },
    {
      "cell_type": "code",
      "source": [
        "dataset['RIW PE'] = dataset['RIW PE'].replace(\n",
        "    to_replace=['PEB', 'PE', 'HELLP SYNDROM', 'Impending PE', 'Impending Eklamsia', 'PE, HELLP Syndrome', 'PEB impending eklampsi', 'Impending Ekalmsia', 'Kejang Konvulsi', 'impending eklamsia'],\n",
        "    value='Ada'\n",
        ")"
      ],
      "metadata": {
        "id": "lZ1gsDwlWmEE"
      },
      "execution_count": 34,
      "outputs": []
    },
    {
      "cell_type": "code",
      "source": [
        "# Mengubah data menjadi string dan menghitung nilai unik\n",
        "value_counts = dataset['RIW PE'].astype(str).value_counts(dropna=False)\n",
        "\n",
        "print(value_counts)"
      ],
      "metadata": {
        "colab": {
          "base_uri": "https://localhost:8080/"
        },
        "id": "B6J-gnndWq34",
        "outputId": "7e822d03-b783-4f88-d3df-1e601cf323f2"
      },
      "execution_count": 35,
      "outputs": [
        {
          "output_type": "stream",
          "name": "stdout",
          "text": [
            "RIW PE\n",
            "Tidak    526\n",
            "Ada       35\n",
            "Name: count, dtype: int64\n"
          ]
        }
      ]
    },
    {
      "cell_type": "code",
      "source": [
        "# Mengubah data menjadi string dan menghitung nilai unik\n",
        "value_counts = dataset['OBESITAS'].astype(str).value_counts(dropna=False)\n",
        "\n",
        "print(value_counts)"
      ],
      "metadata": {
        "colab": {
          "base_uri": "https://localhost:8080/"
        },
        "id": "zKaGKyEBWuC1",
        "outputId": "99ba22a8-e884-4175-ff6f-19e7b41a01ac"
      },
      "execution_count": 36,
      "outputs": [
        {
          "output_type": "stream",
          "name": "stdout",
          "text": [
            "OBESITAS\n",
            "Tidak    556\n",
            "Ya         5\n",
            "Name: count, dtype: int64\n"
          ]
        }
      ]
    },
    {
      "cell_type": "code",
      "source": [
        "# Mengubah data menjadi string dan menghitung nilai unik\n",
        "value_counts = dataset['RIW DM'].astype(str).value_counts(dropna=False)\n",
        "\n",
        "print(value_counts)"
      ],
      "metadata": {
        "colab": {
          "base_uri": "https://localhost:8080/"
        },
        "id": "8ldZalnsWxbg",
        "outputId": "82d5bd22-e4ec-4d75-e9a6-7f321a07efb5"
      },
      "execution_count": 37,
      "outputs": [
        {
          "output_type": "stream",
          "name": "stdout",
          "text": [
            "RIW DM\n",
            "Tidak    556\n",
            "Ya         5\n",
            "Name: count, dtype: int64\n"
          ]
        }
      ]
    },
    {
      "cell_type": "code",
      "source": [
        "value_counts = dataset['RIW HIPERTENSI/PE DALAM KELUARGA'].astype(str).value_counts(dropna=False)\n",
        "\n",
        "print(value_counts)"
      ],
      "metadata": {
        "colab": {
          "base_uri": "https://localhost:8080/"
        },
        "id": "hq45-4msWzZi",
        "outputId": "0f7c7a8b-8beb-493f-c4ea-a3ab53580f42"
      },
      "execution_count": 38,
      "outputs": [
        {
          "output_type": "stream",
          "name": "stdout",
          "text": [
            "RIW HIPERTENSI/PE DALAM KELUARGA\n",
            "Tidak    550\n",
            "Ada       11\n",
            "Name: count, dtype: int64\n"
          ]
        }
      ]
    },
    {
      "cell_type": "code",
      "source": [
        "value_counts = dataset['SOSEK RENDAH'].astype(str).value_counts(dropna=False)\n",
        "\n",
        "print(value_counts)"
      ],
      "metadata": {
        "colab": {
          "base_uri": "https://localhost:8080/"
        },
        "id": "MJzCiOz1W1VL",
        "outputId": "c583ca6b-d844-4c9c-ca61-8dfac902dde3"
      },
      "execution_count": 39,
      "outputs": [
        {
          "output_type": "stream",
          "name": "stdout",
          "text": [
            "SOSEK RENDAH\n",
            ">UMR    557\n",
            "<UMR      4\n",
            "Name: count, dtype: int64\n"
          ]
        }
      ]
    },
    {
      "cell_type": "code",
      "source": [
        "value_counts = dataset['PE/Non PE'].astype(str).value_counts(dropna=False)\n",
        "\n",
        "print(value_counts)"
      ],
      "metadata": {
        "colab": {
          "base_uri": "https://localhost:8080/"
        },
        "id": "kMRS7J8dW3hy",
        "outputId": "296c0d5d-831f-4c3a-e989-c06ef98f4fc0"
      },
      "execution_count": 40,
      "outputs": [
        {
          "output_type": "stream",
          "name": "stdout",
          "text": [
            "PE/Non PE\n",
            "Non PE                    520\n",
            "PEB                        20\n",
            "PE                         17\n",
            "Eklamsia                    1\n",
            "PE gemelli                  1\n",
            "PEB impending eklampsi      1\n",
            "PE                          1\n",
            "Name: count, dtype: int64\n"
          ]
        }
      ]
    },
    {
      "cell_type": "code",
      "source": [
        "dataset['PE/Non PE'] = dataset['PE/Non PE'].replace(\n",
        "    to_replace=['PEB', 'PE', 'Eklamsia', 'PE gemelli', 'PEB impending eklampsi', 'PE '],\n",
        "    value='PE'\n",
        ")"
      ],
      "metadata": {
        "id": "pwsLt8wTW57n"
      },
      "execution_count": 41,
      "outputs": []
    },
    {
      "cell_type": "code",
      "source": [
        "value_counts = dataset['PE/Non PE'].astype(str).value_counts(dropna=False)\n",
        "\n",
        "print(value_counts)"
      ],
      "metadata": {
        "colab": {
          "base_uri": "https://localhost:8080/"
        },
        "id": "_BZxHLlBW-jJ",
        "outputId": "a2aebc0f-8d65-41b2-e736-fe4a8360ebc2"
      },
      "execution_count": 42,
      "outputs": [
        {
          "output_type": "stream",
          "name": "stdout",
          "text": [
            "PE/Non PE\n",
            "Non PE    520\n",
            "PE         41\n",
            "Name: count, dtype: int64\n"
          ]
        }
      ]
    },
    {
      "cell_type": "code",
      "source": [
        "import pandas as pd\n",
        "import matplotlib.pyplot as plt\n",
        "\n",
        "value_counts = dataset['PE/Non PE'].value_counts()\n",
        "\n",
        "# Create a bar chart\n",
        "ax = value_counts.plot(kind='bar', color=['red', 'orange'])\n",
        "\n",
        "# Add title and labels\n",
        "plt.title('PE/Non PE Distribution')\n",
        "plt.xlabel('Category')\n",
        "plt.ylabel('Count')\n",
        "\n",
        "# Add count labels on top of each bar\n",
        "for i, count in enumerate(value_counts):\n",
        "    ax.text(i, count , str(count), ha='center', va='bottom')\n",
        "\n",
        "# Display the bar chart\n",
        "plt.show()"
      ],
      "metadata": {
        "colab": {
          "base_uri": "https://localhost:8080/",
          "height": 507
        },
        "id": "Xk4S-QqcXBUv",
        "outputId": "e73d503f-b57a-4adc-f59d-ce8917b7c6e6"
      },
      "execution_count": 44,
      "outputs": [
        {
          "output_type": "display_data",
          "data": {
            "text/plain": [
              "<Figure size 640x480 with 1 Axes>"
            ],
            "image/png": "[encoded data removed]"
          },
          "metadata": {}
        }
      ]
    },
    {
      "cell_type": "markdown",
      "source": [
        "## Pada Grafik diatas terlihat Non PE memiliki angka tertinggi hingga 520"
      ],
      "metadata": {
        "id": "2RbHvIDAXbIo"
      }
    },
    {
      "cell_type": "code",
      "source": [
        "dataset.info()"
      ],
      "metadata": {
        "colab": {
          "base_uri": "https://localhost:8080/"
        },
        "id": "-7_ULJuoXo7e",
        "outputId": "c18ea243-2d00-4ae7-8c8f-19d2b0fcb755"
      },
      "execution_count": 46,
      "outputs": [
        {
          "output_type": "stream",
          "name": "stdout",
          "text": [
            "<class 'pandas.core.frame.DataFrame'>\n",
            "RangeIndex: 561 entries, 0 to 560\n",
            "Data columns (total 12 columns):\n",
            " #   Column                            Non-Null Count  Dtype  \n",
            "---  ------                            --------------  -----  \n",
            " 0   NO                                561 non-null    int64  \n",
            " 1   NAMA                              561 non-null    object \n",
            " 2   USIA                              561 non-null    float64\n",
            " 3   PARITAS                           561 non-null    int64  \n",
            " 4   JARAK KELAHIRAN                   561 non-null    object \n",
            " 5   RIW HIPERTENSI                    561 non-null    object \n",
            " 6   RIW PE                            561 non-null    object \n",
            " 7   OBESITAS                          561 non-null    object \n",
            " 8   RIW DM                            561 non-null    object \n",
            " 9   RIW HIPERTENSI/PE DALAM KELUARGA  561 non-null    object \n",
            " 10  SOSEK RENDAH                      561 non-null    object \n",
            " 11  PE/Non PE                         561 non-null    object \n",
            "dtypes: float64(1), int64(2), object(9)\n",
            "memory usage: 52.7+ KB\n"
          ]
        }
      ]
    },
    {
      "cell_type": "markdown",
      "source": [
        "# Konfersi Nilai ke Numerik"
      ],
      "metadata": {
        "id": "j6rivP8SX3Kc"
      }
    },
    {
      "cell_type": "code",
      "source": [
        "# label_encoder = LabelEncoder()\n",
        "# datasets['PARITAS'] = label_encoder.fit_transform(datasets['PARITAS'])"
      ],
      "metadata": {
        "id": "qUlS1iD_X86h"
      },
      "execution_count": 47,
      "outputs": []
    },
    {
      "cell_type": "code",
      "source": [
        "# Mengubah data menjadi string dan menghitung nilai unik\n",
        "value_counts = dataset['PARITAS'].astype(str).value_counts(dropna=False)\n",
        "\n",
        "print(value_counts)"
      ],
      "metadata": {
        "colab": {
          "base_uri": "https://localhost:8080/"
        },
        "id": "XR4s-mn2YBPW",
        "outputId": "51aae8df-d4e8-4e63-dbfe-88540b38b4e9"
      },
      "execution_count": 48,
      "outputs": [
        {
          "output_type": "stream",
          "name": "stdout",
          "text": [
            "PARITAS\n",
            "1    228\n",
            "2    186\n",
            "3     82\n",
            "0     39\n",
            "4     20\n",
            "5      3\n",
            "6      3\n",
            "Name: count, dtype: int64\n"
          ]
        }
      ]
    },
    {
      "cell_type": "code",
      "source": [
        "label_encoder = LabelEncoder()\n",
        "dataset['JARAK KELAHIRAN'] = label_encoder.fit_transform(dataset['JARAK KELAHIRAN'])"
      ],
      "metadata": {
        "id": "rFZSLTkBYDOZ"
      },
      "execution_count": 50,
      "outputs": []
    },
    {
      "cell_type": "code",
      "source": [
        "# Mengubah data menjadi string dan menghitung nilai unik\n",
        "value_counts = dataset['JARAK KELAHIRAN'].astype(str).value_counts(dropna=False)\n",
        "\n",
        "print(value_counts)"
      ],
      "metadata": {
        "colab": {
          "base_uri": "https://localhost:8080/"
        },
        "id": "1q2m4-m-YNKz",
        "outputId": "839cad89-24d3-49cb-81ba-5896604b5cce"
      },
      "execution_count": 51,
      "outputs": [
        {
          "output_type": "stream",
          "name": "stdout",
          "text": [
            "JARAK KELAHIRAN\n",
            "2    267\n",
            "1    213\n",
            "0     81\n",
            "Name: count, dtype: int64\n"
          ]
        }
      ]
    },
    {
      "cell_type": "code",
      "source": [
        "from sklearn.preprocessing import OneHotEncoder"
      ],
      "metadata": {
        "id": "63XC97nGYVbq"
      },
      "execution_count": 52,
      "outputs": []
    },
    {
      "cell_type": "code",
      "source": [
        "# Inisialisasi OneHotEncoder\n",
        "encoder = OneHotEncoder(sparse_output=False)  # sparse_output=False agar output berupa array, bukan sparse matrix\n",
        "\n",
        "# Terapkan OneHotEncoder\n",
        "one_hot_encoded = encoder.fit_transform(dataset[['RIW HIPERTENSI']])\n",
        "\n",
        "# Dapatkan nama kolom baru dari encoder\n",
        "one_hot_columns = encoder.get_feature_names_out(['RIW HIPERTENSI'])\n",
        "\n",
        "# Buat DataFrame baru dari hasil One-Hot Encoding\n",
        "one_hot_df = pd.DataFrame(one_hot_encoded, columns=one_hot_columns)\n",
        "\n",
        "# Gabungkan dengan DataFrame asli (atau gantikan kolom asli)\n",
        "dataset = pd.concat([dataset.drop('RIW HIPERTENSI', axis=1), one_hot_df], axis=1)"
      ],
      "metadata": {
        "id": "vJqbduNPYX71"
      },
      "execution_count": 53,
      "outputs": []
    },
    {
      "cell_type": "code",
      "source": [
        "# Inisialisasi OneHotEncoder\n",
        "encoder = OneHotEncoder(sparse_output=False)  # sparse_output=False agar output berupa array, bukan sparse matrix\n",
        "\n",
        "# Terapkan OneHotEncoder\n",
        "one_hot_encoded = encoder.fit_transform(dataset[['RIW PE']])\n",
        "\n",
        "# Dapatkan nama kolom baru dari encoder\n",
        "one_hot_columns = encoder.get_feature_names_out(['RIW PE'])\n",
        "\n",
        "# Buat DataFrame baru dari hasil One-Hot Encoding\n",
        "one_hot_df = pd.DataFrame(one_hot_encoded, columns=one_hot_columns)\n",
        "\n",
        "# Gabungkan dengan DataFrame asli (atau gantikan kolom asli)\n",
        "dataset = pd.concat([dataset.drop('RIW PE', axis=1), one_hot_df], axis=1)"
      ],
      "metadata": {
        "id": "-75Wy01KYlYG"
      },
      "execution_count": 54,
      "outputs": []
    },
    {
      "cell_type": "code",
      "source": [
        "# Inisialisasi OneHotEncoder\n",
        "encoder = OneHotEncoder(sparse_output=False)  # sparse_output=False agar output berupa array, bukan sparse matrix\n",
        "\n",
        "# Terapkan OneHotEncoder\n",
        "one_hot_encoded = encoder.fit_transform(dataset[['OBESITAS']])\n",
        "\n",
        "# Dapatkan nama kolom baru dari encoder\n",
        "one_hot_columns = encoder.get_feature_names_out(['OBESITAS'])\n",
        "\n",
        "# Buat DataFrame baru dari hasil One-Hot Encoding\n",
        "one_hot_df = pd.DataFrame(one_hot_encoded, columns=one_hot_columns)\n",
        "\n",
        "# Gabungkan dengan DataFrame asli (atau gantikan kolom asli)\n",
        "dataset = pd.concat([dataset.drop('OBESITAS', axis=1), one_hot_df], axis=1)"
      ],
      "metadata": {
        "id": "uVL5-kR0Yqqi"
      },
      "execution_count": 55,
      "outputs": []
    },
    {
      "cell_type": "code",
      "source": [
        "# Inisialisasi OneHotEncoder\n",
        "encoder = OneHotEncoder(sparse_output=False)  # sparse_output=False agar output berupa array, bukan sparse matrix\n",
        "\n",
        "# Terapkan OneHotEncoder\n",
        "one_hot_encoded = encoder.fit_transform(dataset[['RIW DM']])\n",
        "\n",
        "# Dapatkan nama kolom baru dari encoder\n",
        "one_hot_columns = encoder.get_feature_names_out(['RIW DM'])\n",
        "\n",
        "# Buat DataFrame baru dari hasil One-Hot Encoding\n",
        "one_hot_df = pd.DataFrame(one_hot_encoded, columns=one_hot_columns)\n",
        "\n",
        "# Gabungkan dengan DataFrame asli (atau gantikan kolom asli)\n",
        "dataset = pd.concat([dataset.drop('RIW DM', axis=1), one_hot_df], axis=1)"
      ],
      "metadata": {
        "id": "3Nljjx73YuzB"
      },
      "execution_count": 57,
      "outputs": []
    },
    {
      "cell_type": "code",
      "source": [
        "# datasets['RIW HIPERTENSI/PE DALAM KELUARGA'] = label_encoder.fit_transform(datasets['RIW HIPERTENSI/PE DALAM KELUARGA'])\n",
        "\n",
        "# Inisialisasi OneHotEncoder\n",
        "encoder = OneHotEncoder(sparse_output=False)  # sparse_output=False agar output berupa array, bukan sparse matrix\n",
        "\n",
        "# Terapkan OneHotEncoder\n",
        "one_hot_encoded = encoder.fit_transform(dataset[['RIW HIPERTENSI/PE DALAM KELUARGA']])\n",
        "\n",
        "# Dapatkan nama kolom baru dari encoder\n",
        "one_hot_columns = encoder.get_feature_names_out(['RIW HIPERTENSI/PE DALAM KELUARGA'])\n",
        "\n",
        "# Buat DataFrame baru dari hasil One-Hot Encoding\n",
        "one_hot_df = pd.DataFrame(one_hot_encoded, columns=one_hot_columns)\n",
        "\n",
        "# Gabungkan dengan DataFrame asli (atau gantikan kolom asli)\n",
        "dataset = pd.concat([dataset.drop('RIW HIPERTENSI/PE DALAM KELUARGA', axis=1), one_hot_df], axis=1)"
      ],
      "metadata": {
        "id": "sj8p-qD3ZFsO"
      },
      "execution_count": 58,
      "outputs": []
    },
    {
      "cell_type": "code",
      "source": [
        "# datasets['SOSEK RENDAH'] = label_encoder.fit_transform(datasets['SOSEK RENDAH'])\n",
        "\n",
        "# Inisialisasi OneHotEncoder\n",
        "encoder = OneHotEncoder(sparse_output=False)  # sparse_output=False agar output berupa array, bukan sparse matrix\n",
        "\n",
        "# Terapkan OneHotEncoder\n",
        "one_hot_encoded = encoder.fit_transform(dataset[['SOSEK RENDAH']])\n",
        "\n",
        "# Dapatkan nama kolom baru dari encoder\n",
        "one_hot_columns = encoder.get_feature_names_out(['SOSEK RENDAH'])\n",
        "\n",
        "# Buat DataFrame baru dari hasil One-Hot Encoding\n",
        "one_hot_df = pd.DataFrame(one_hot_encoded, columns=one_hot_columns)\n",
        "\n",
        "# Gabungkan dengan DataFrame asli (atau gantikan kolom asli)\n",
        "dataset = pd.concat([dataset.drop('SOSEK RENDAH', axis=1), one_hot_df], axis=1)"
      ],
      "metadata": {
        "id": "hEqIcyZxZNBn"
      },
      "execution_count": 59,
      "outputs": []
    },
    {
      "cell_type": "code",
      "source": [
        "dataset['PE/Non PE'] = label_encoder.fit_transform(dataset['PE/Non PE'])"
      ],
      "metadata": {
        "id": "AYHmWVm1ZRNa"
      },
      "execution_count": 61,
      "outputs": []
    },
    {
      "cell_type": "code",
      "source": [
        "value_counts = dataset['PE/Non PE'].astype(str).value_counts(dropna=False)\n",
        "\n",
        "print(value_counts)"
      ],
      "metadata": {
        "colab": {
          "base_uri": "https://localhost:8080/"
        },
        "id": "CSvwbKrRZUsX",
        "outputId": "89a5c3a1-6778-419e-9fcb-554bc069c31e"
      },
      "execution_count": 62,
      "outputs": [
        {
          "output_type": "stream",
          "name": "stdout",
          "text": [
            "PE/Non PE\n",
            "0    520\n",
            "1     41\n",
            "Name: count, dtype: int64\n"
          ]
        }
      ]
    },
    {
      "cell_type": "code",
      "source": [
        "dataset.info()"
      ],
      "metadata": {
        "colab": {
          "base_uri": "https://localhost:8080/"
        },
        "id": "nqOuKDN7Zb_U",
        "outputId": "6ecea34c-075a-4e9f-9b04-dd094b50eb62"
      },
      "execution_count": 63,
      "outputs": [
        {
          "output_type": "stream",
          "name": "stdout",
          "text": [
            "<class 'pandas.core.frame.DataFrame'>\n",
            "RangeIndex: 561 entries, 0 to 560\n",
            "Data columns (total 18 columns):\n",
            " #   Column                                  Non-Null Count  Dtype  \n",
            "---  ------                                  --------------  -----  \n",
            " 0   NO                                      561 non-null    int64  \n",
            " 1   NAMA                                    561 non-null    object \n",
            " 2   USIA                                    561 non-null    float64\n",
            " 3   PARITAS                                 561 non-null    int64  \n",
            " 4   JARAK KELAHIRAN                         561 non-null    int64  \n",
            " 5   PE/Non PE                               561 non-null    int64  \n",
            " 6   RIW HIPERTENSI_Tidak                    561 non-null    float64\n",
            " 7   RIW HIPERTENSI_Ya                       561 non-null    float64\n",
            " 8   RIW PE_Ada                              561 non-null    float64\n",
            " 9   RIW PE_Tidak                            561 non-null    float64\n",
            " 10  OBESITAS_Tidak                          561 non-null    float64\n",
            " 11  OBESITAS_Ya                             561 non-null    float64\n",
            " 12  RIW DM_Tidak                            561 non-null    float64\n",
            " 13  RIW DM_Ya                               561 non-null    float64\n",
            " 14  RIW HIPERTENSI/PE DALAM KELUARGA_Ada    561 non-null    float64\n",
            " 15  RIW HIPERTENSI/PE DALAM KELUARGA_Tidak  561 non-null    float64\n",
            " 16  SOSEK RENDAH_<UMR                       561 non-null    float64\n",
            " 17  SOSEK RENDAH_>UMR                       561 non-null    float64\n",
            "dtypes: float64(13), int64(4), object(1)\n",
            "memory usage: 79.0+ KB\n"
          ]
        }
      ]
    },
    {
      "cell_type": "code",
      "source": [
        "dataset.to_csv('datasets-jadi.csv', index=False)"
      ],
      "metadata": {
        "id": "NqH465W3ZeYX"
      },
      "execution_count": 65,
      "outputs": []
    },
    {
      "cell_type": "code",
      "source": [],
      "metadata": {
        "id": "0fc2LFtjZida"
      },
      "execution_count": null,
      "outputs": []
    }
  ]
}